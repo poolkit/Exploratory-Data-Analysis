{
 "cells": [
  {
   "cell_type": "code",
   "execution_count": 1,
   "id": "87e672a0",
   "metadata": {},
   "outputs": [],
   "source": [
    "import numpy as np\n",
    "import pandas as pd\n",
    "import matplotlib.pyplot as plt\n",
    "import seaborn as sns\n",
    "%matplotlib inline"
   ]
  },
  {
   "cell_type": "code",
   "execution_count": 2,
   "id": "667c39bf",
   "metadata": {},
   "outputs": [
    {
     "data": {
      "text/html": [
       "<div>\n",
       "<style scoped>\n",
       "    .dataframe tbody tr th:only-of-type {\n",
       "        vertical-align: middle;\n",
       "    }\n",
       "\n",
       "    .dataframe tbody tr th {\n",
       "        vertical-align: top;\n",
       "    }\n",
       "\n",
       "    .dataframe thead th {\n",
       "        text-align: right;\n",
       "    }\n",
       "</style>\n",
       "<table border=\"1\" class=\"dataframe\">\n",
       "  <thead>\n",
       "    <tr style=\"text-align: right;\">\n",
       "      <th></th>\n",
       "      <th>show_id</th>\n",
       "      <th>type</th>\n",
       "      <th>title</th>\n",
       "      <th>director</th>\n",
       "      <th>cast</th>\n",
       "      <th>country</th>\n",
       "      <th>date_added</th>\n",
       "      <th>release_year</th>\n",
       "      <th>rating</th>\n",
       "      <th>duration</th>\n",
       "      <th>listed_in</th>\n",
       "      <th>description</th>\n",
       "    </tr>\n",
       "  </thead>\n",
       "  <tbody>\n",
       "    <tr>\n",
       "      <th>0</th>\n",
       "      <td>s1</td>\n",
       "      <td>TV Show</td>\n",
       "      <td>3%</td>\n",
       "      <td>NaN</td>\n",
       "      <td>João Miguel, Bianca Comparato, Michel Gomes, R...</td>\n",
       "      <td>Brazil</td>\n",
       "      <td>August 14, 2020</td>\n",
       "      <td>2020</td>\n",
       "      <td>TV-MA</td>\n",
       "      <td>4 Seasons</td>\n",
       "      <td>International TV Shows, TV Dramas, TV Sci-Fi &amp;...</td>\n",
       "      <td>In a future where the elite inhabit an island ...</td>\n",
       "    </tr>\n",
       "    <tr>\n",
       "      <th>1</th>\n",
       "      <td>s2</td>\n",
       "      <td>Movie</td>\n",
       "      <td>7:19</td>\n",
       "      <td>Jorge Michel Grau</td>\n",
       "      <td>Demián Bichir, Héctor Bonilla, Oscar Serrano, ...</td>\n",
       "      <td>Mexico</td>\n",
       "      <td>December 23, 2016</td>\n",
       "      <td>2016</td>\n",
       "      <td>TV-MA</td>\n",
       "      <td>93 min</td>\n",
       "      <td>Dramas, International Movies</td>\n",
       "      <td>After a devastating earthquake hits Mexico Cit...</td>\n",
       "    </tr>\n",
       "    <tr>\n",
       "      <th>2</th>\n",
       "      <td>s3</td>\n",
       "      <td>Movie</td>\n",
       "      <td>23:59</td>\n",
       "      <td>Gilbert Chan</td>\n",
       "      <td>Tedd Chan, Stella Chung, Henley Hii, Lawrence ...</td>\n",
       "      <td>Singapore</td>\n",
       "      <td>December 20, 2018</td>\n",
       "      <td>2011</td>\n",
       "      <td>R</td>\n",
       "      <td>78 min</td>\n",
       "      <td>Horror Movies, International Movies</td>\n",
       "      <td>When an army recruit is found dead, his fellow...</td>\n",
       "    </tr>\n",
       "    <tr>\n",
       "      <th>3</th>\n",
       "      <td>s4</td>\n",
       "      <td>Movie</td>\n",
       "      <td>9</td>\n",
       "      <td>Shane Acker</td>\n",
       "      <td>Elijah Wood, John C. Reilly, Jennifer Connelly...</td>\n",
       "      <td>United States</td>\n",
       "      <td>November 16, 2017</td>\n",
       "      <td>2009</td>\n",
       "      <td>PG-13</td>\n",
       "      <td>80 min</td>\n",
       "      <td>Action &amp; Adventure, Independent Movies, Sci-Fi...</td>\n",
       "      <td>In a postapocalyptic world, rag-doll robots hi...</td>\n",
       "    </tr>\n",
       "    <tr>\n",
       "      <th>4</th>\n",
       "      <td>s5</td>\n",
       "      <td>Movie</td>\n",
       "      <td>21</td>\n",
       "      <td>Robert Luketic</td>\n",
       "      <td>Jim Sturgess, Kevin Spacey, Kate Bosworth, Aar...</td>\n",
       "      <td>United States</td>\n",
       "      <td>January 1, 2020</td>\n",
       "      <td>2008</td>\n",
       "      <td>PG-13</td>\n",
       "      <td>123 min</td>\n",
       "      <td>Dramas</td>\n",
       "      <td>A brilliant group of students become card-coun...</td>\n",
       "    </tr>\n",
       "  </tbody>\n",
       "</table>\n",
       "</div>"
      ],
      "text/plain": [
       "  show_id     type  title           director  \\\n",
       "0      s1  TV Show     3%                NaN   \n",
       "1      s2    Movie   7:19  Jorge Michel Grau   \n",
       "2      s3    Movie  23:59       Gilbert Chan   \n",
       "3      s4    Movie      9        Shane Acker   \n",
       "4      s5    Movie     21     Robert Luketic   \n",
       "\n",
       "                                                cast        country  \\\n",
       "0  João Miguel, Bianca Comparato, Michel Gomes, R...         Brazil   \n",
       "1  Demián Bichir, Héctor Bonilla, Oscar Serrano, ...         Mexico   \n",
       "2  Tedd Chan, Stella Chung, Henley Hii, Lawrence ...      Singapore   \n",
       "3  Elijah Wood, John C. Reilly, Jennifer Connelly...  United States   \n",
       "4  Jim Sturgess, Kevin Spacey, Kate Bosworth, Aar...  United States   \n",
       "\n",
       "          date_added  release_year rating   duration  \\\n",
       "0    August 14, 2020          2020  TV-MA  4 Seasons   \n",
       "1  December 23, 2016          2016  TV-MA     93 min   \n",
       "2  December 20, 2018          2011      R     78 min   \n",
       "3  November 16, 2017          2009  PG-13     80 min   \n",
       "4    January 1, 2020          2008  PG-13    123 min   \n",
       "\n",
       "                                           listed_in  \\\n",
       "0  International TV Shows, TV Dramas, TV Sci-Fi &...   \n",
       "1                       Dramas, International Movies   \n",
       "2                Horror Movies, International Movies   \n",
       "3  Action & Adventure, Independent Movies, Sci-Fi...   \n",
       "4                                             Dramas   \n",
       "\n",
       "                                         description  \n",
       "0  In a future where the elite inhabit an island ...  \n",
       "1  After a devastating earthquake hits Mexico Cit...  \n",
       "2  When an army recruit is found dead, his fellow...  \n",
       "3  In a postapocalyptic world, rag-doll robots hi...  \n",
       "4  A brilliant group of students become card-coun...  "
      ]
     },
     "execution_count": 2,
     "metadata": {},
     "output_type": "execute_result"
    }
   ],
   "source": [
    "data = pd.read_csv('netflix_titles.csv')\n",
    "data.head()"
   ]
  },
  {
   "cell_type": "code",
   "execution_count": 3,
   "id": "a8797874",
   "metadata": {},
   "outputs": [
    {
     "data": {
      "text/plain": [
       "(7787, 12)"
      ]
     },
     "execution_count": 3,
     "metadata": {},
     "output_type": "execute_result"
    }
   ],
   "source": [
    "data.shape"
   ]
  },
  {
   "cell_type": "code",
   "execution_count": 269,
   "id": "0690be58",
   "metadata": {},
   "outputs": [],
   "source": [
    "df = data.copy()"
   ]
  },
  {
   "cell_type": "code",
   "execution_count": 5,
   "id": "87f2e502",
   "metadata": {},
   "outputs": [
    {
     "name": "stdout",
     "output_type": "stream",
     "text": [
      "<class 'pandas.core.frame.DataFrame'>\n",
      "RangeIndex: 7787 entries, 0 to 7786\n",
      "Data columns (total 12 columns):\n",
      " #   Column        Non-Null Count  Dtype \n",
      "---  ------        --------------  ----- \n",
      " 0   show_id       7787 non-null   object\n",
      " 1   type          7787 non-null   object\n",
      " 2   title         7787 non-null   object\n",
      " 3   director      5398 non-null   object\n",
      " 4   cast          7069 non-null   object\n",
      " 5   country       7280 non-null   object\n",
      " 6   date_added    7777 non-null   object\n",
      " 7   release_year  7787 non-null   int64 \n",
      " 8   rating        7780 non-null   object\n",
      " 9   duration      7787 non-null   object\n",
      " 10  listed_in     7787 non-null   object\n",
      " 11  description   7787 non-null   object\n",
      "dtypes: int64(1), object(11)\n",
      "memory usage: 730.2+ KB\n"
     ]
    }
   ],
   "source": [
    "df.info()"
   ]
  },
  {
   "cell_type": "code",
   "execution_count": 6,
   "id": "126b7626",
   "metadata": {},
   "outputs": [
    {
     "data": {
      "text/plain": [
       "show_id            0\n",
       "type               0\n",
       "title              0\n",
       "director        2389\n",
       "cast             718\n",
       "country          507\n",
       "date_added        10\n",
       "release_year       0\n",
       "rating             7\n",
       "duration           0\n",
       "listed_in          0\n",
       "description        0\n",
       "dtype: int64"
      ]
     },
     "execution_count": 6,
     "metadata": {},
     "output_type": "execute_result"
    }
   ],
   "source": [
    "df.isnull().sum()"
   ]
  },
  {
   "cell_type": "code",
   "execution_count": 7,
   "id": "f27a3ab1",
   "metadata": {},
   "outputs": [
    {
     "data": {
      "text/plain": [
       "<AxesSubplot:ylabel='type'>"
      ]
     },
     "execution_count": 7,
     "metadata": {},
     "output_type": "execute_result"
    },
    {
     "data": {
      "image/png": "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\n",
      "text/plain": [
       "<Figure size 720x720 with 1 Axes>"
      ]
     },
     "metadata": {},
     "output_type": "display_data"
    }
   ],
   "source": [
    "plt.figure(figsize=(10, 10))\n",
    "df['type'].value_counts().plot(kind='pie',autopct='%1.0f%%')"
   ]
  },
  {
   "cell_type": "code",
   "execution_count": 8,
   "id": "0592a82b",
   "metadata": {},
   "outputs": [
    {
     "data": {
      "text/plain": [
       "Movie      5377\n",
       "TV Show    2410\n",
       "Name: type, dtype: int64"
      ]
     },
     "execution_count": 8,
     "metadata": {},
     "output_type": "execute_result"
    }
   ],
   "source": [
    "df['type'].value_counts()"
   ]
  },
  {
   "cell_type": "code",
   "execution_count": 9,
   "id": "cfa2ea36",
   "metadata": {},
   "outputs": [
    {
     "data": {
      "text/plain": [
       "4049"
      ]
     },
     "execution_count": 9,
     "metadata": {},
     "output_type": "execute_result"
    }
   ],
   "source": [
    "df['director'].nunique()"
   ]
  },
  {
   "cell_type": "code",
   "execution_count": 10,
   "id": "e04a3307",
   "metadata": {},
   "outputs": [
    {
     "data": {
      "text/plain": [
       "Raúl Campos, Jan Suter    18\n",
       "Marcus Raboy              16\n",
       "Jay Karas                 14\n",
       "Cathy Garcia-Molina       13\n",
       "Martin Scorsese           12\n",
       "                          ..\n",
       "Lai Chun-yu                1\n",
       "Marwan Hamed               1\n",
       "J.D. Dillard               1\n",
       "Shalini Kantayya           1\n",
       "Samir Soni                 1\n",
       "Name: director, Length: 4049, dtype: int64"
      ]
     },
     "execution_count": 10,
     "metadata": {},
     "output_type": "execute_result"
    }
   ],
   "source": [
    "df['director'].value_counts()"
   ]
  },
  {
   "cell_type": "code",
   "execution_count": 11,
   "id": "3caea20b",
   "metadata": {},
   "outputs": [
    {
     "data": {
      "text/plain": [
       "681"
      ]
     },
     "execution_count": 11,
     "metadata": {},
     "output_type": "execute_result"
    }
   ],
   "source": [
    "df['country'].nunique()"
   ]
  },
  {
   "cell_type": "code",
   "execution_count": 12,
   "id": "86eac1dd",
   "metadata": {},
   "outputs": [
    {
     "data": {
      "text/plain": [
       "United States                                                2555\n",
       "India                                                         923\n",
       "United Kingdom                                                397\n",
       "Japan                                                         226\n",
       "South Korea                                                   183\n",
       "                                                             ... \n",
       "United States, Philippines                                      1\n",
       "Denmark, Germany, Belgium, United Kingdom, France, Sweden       1\n",
       "United Kingdom, Poland, United States                           1\n",
       "United States, Nigeria                                          1\n",
       "Chile, Argentina                                                1\n",
       "Name: country, Length: 681, dtype: int64"
      ]
     },
     "execution_count": 12,
     "metadata": {},
     "output_type": "execute_result"
    }
   ],
   "source": [
    "df['country'].value_counts()"
   ]
  },
  {
   "cell_type": "code",
   "execution_count": 13,
   "id": "c902804b",
   "metadata": {},
   "outputs": [],
   "source": [
    "values = df['country'].value_counts()[:10].tolist()\n",
    "labels = df['country'].value_counts()[:10].index.tolist()"
   ]
  },
  {
   "cell_type": "code",
   "execution_count": 14,
   "id": "ae989b9a",
   "metadata": {},
   "outputs": [
    {
     "name": "stdout",
     "output_type": "stream",
     "text": [
      "['United States', 'India', 'United Kingdom', 'Japan', 'South Korea', 'Canada', 'Spain', 'France', 'Egypt', 'Turkey']\n"
     ]
    }
   ],
   "source": [
    "print(labels)"
   ]
  },
  {
   "cell_type": "code",
   "execution_count": 20,
   "id": "115dafa6",
   "metadata": {},
   "outputs": [
    {
     "data": {
      "text/plain": [
       "Text(0.5, 1.0, 'Top 10 countries with movies and tv shows')"
      ]
     },
     "execution_count": 20,
     "metadata": {},
     "output_type": "execute_result"
    },
    {
     "data": {
      "image/png": "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\n",
      "text/plain": [
       "<Figure size 720x720 with 1 Axes>"
      ]
     },
     "metadata": {},
     "output_type": "display_data"
    }
   ],
   "source": [
    "plt.figure(figsize=(10, 10))\n",
    "plt.pie(values,labels=labels,autopct='%1.0f%%')\n",
    "plt.title('Top 10 countries with movies and tv shows')"
   ]
  },
  {
   "cell_type": "code",
   "execution_count": 22,
   "id": "42cf4d27",
   "metadata": {},
   "outputs": [
    {
     "data": {
      "text/plain": [
       "Text(0.5, 1.0, 'Top 10 countries with movies')"
      ]
     },
     "execution_count": 22,
     "metadata": {},
     "output_type": "execute_result"
    },
    {
     "data": {
      "image/png": "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\n",
      "text/plain": [
       "<Figure size 720x720 with 1 Axes>"
      ]
     },
     "metadata": {},
     "output_type": "display_data"
    }
   ],
   "source": [
    "m = df[df['type']=='Movie']\n",
    "m_values = m['country'].value_counts()[:10].tolist()\n",
    "m_labels = m['country'].value_counts()[:10].index.tolist()\n",
    "\n",
    "plt.figure(figsize=(10, 10))\n",
    "plt.pie(m_values,labels=m_labels,autopct='%1.0f%%')\n",
    "plt.title('Top 10 countries with movies')"
   ]
  },
  {
   "cell_type": "code",
   "execution_count": 34,
   "id": "6b07cd07",
   "metadata": {},
   "outputs": [
    {
     "name": "stderr",
     "output_type": "stream",
     "text": [
      "C:\\Users\\aurorarch\\Anaconda3\\lib\\site-packages\\seaborn\\_decorators.py:43: FutureWarning: Pass the following variables as keyword args: x, y. From version 0.12, the only valid positional argument will be `data`, and passing other arguments without an explicit keyword will result in an error or misinterpretation.\n",
      "  FutureWarning\n"
     ]
    },
    {
     "data": {
      "image/png": "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\n",
      "text/plain": [
       "<Figure size 432x432 with 1 Axes>"
      ]
     },
     "metadata": {
      "needs_background": "light"
     },
     "output_type": "display_data"
    }
   ],
   "source": [
    "plt.figure(figsize=(6,6))\n",
    "sns.barplot(m_labels,m_values)\n",
    "plt.xticks(rotation=45)\n",
    "plt.title('Top 10 countries with movies')\n",
    "plt.show()"
   ]
  },
  {
   "cell_type": "code",
   "execution_count": 19,
   "id": "417881e0",
   "metadata": {},
   "outputs": [
    {
     "data": {
      "text/plain": [
       "TV-MA       2863\n",
       "TV-14       1931\n",
       "TV-PG        806\n",
       "R            665\n",
       "PG-13        386\n",
       "TV-Y         280\n",
       "TV-Y7        271\n",
       "PG           247\n",
       "TV-G         194\n",
       "NR            84\n",
       "G             39\n",
       "TV-Y7-FV       6\n",
       "UR             5\n",
       "NC-17          3\n",
       "Name: rating, dtype: int64"
      ]
     },
     "execution_count": 19,
     "metadata": {},
     "output_type": "execute_result"
    }
   ],
   "source": [
    "df['rating'].value_counts()"
   ]
  },
  {
   "cell_type": "code",
   "execution_count": 272,
   "id": "c08c1270",
   "metadata": {},
   "outputs": [],
   "source": [
    "df['date_added'] = df['date_added'].fillna(df['date_added'].mode()[0])"
   ]
  },
  {
   "cell_type": "code",
   "execution_count": 273,
   "id": "3affff4b",
   "metadata": {},
   "outputs": [
    {
     "data": {
      "text/html": [
       "<div>\n",
       "<style scoped>\n",
       "    .dataframe tbody tr th:only-of-type {\n",
       "        vertical-align: middle;\n",
       "    }\n",
       "\n",
       "    .dataframe tbody tr th {\n",
       "        vertical-align: top;\n",
       "    }\n",
       "\n",
       "    .dataframe thead th {\n",
       "        text-align: right;\n",
       "    }\n",
       "</style>\n",
       "<table border=\"1\" class=\"dataframe\">\n",
       "  <thead>\n",
       "    <tr style=\"text-align: right;\">\n",
       "      <th></th>\n",
       "      <th>date_added</th>\n",
       "      <th>MD</th>\n",
       "      <th>Year</th>\n",
       "    </tr>\n",
       "  </thead>\n",
       "  <tbody>\n",
       "    <tr>\n",
       "      <th>0</th>\n",
       "      <td>August 14, 2020</td>\n",
       "      <td>August 14</td>\n",
       "      <td>2020</td>\n",
       "    </tr>\n",
       "    <tr>\n",
       "      <th>1</th>\n",
       "      <td>December 23, 2016</td>\n",
       "      <td>December 23</td>\n",
       "      <td>2016</td>\n",
       "    </tr>\n",
       "    <tr>\n",
       "      <th>2</th>\n",
       "      <td>December 20, 2018</td>\n",
       "      <td>December 20</td>\n",
       "      <td>2018</td>\n",
       "    </tr>\n",
       "    <tr>\n",
       "      <th>3</th>\n",
       "      <td>November 16, 2017</td>\n",
       "      <td>November 16</td>\n",
       "      <td>2017</td>\n",
       "    </tr>\n",
       "    <tr>\n",
       "      <th>4</th>\n",
       "      <td>January 1, 2020</td>\n",
       "      <td>January 1</td>\n",
       "      <td>2020</td>\n",
       "    </tr>\n",
       "  </tbody>\n",
       "</table>\n",
       "</div>"
      ],
      "text/plain": [
       "          date_added           MD  Year\n",
       "0    August 14, 2020    August 14  2020\n",
       "1  December 23, 2016  December 23  2016\n",
       "2  December 20, 2018  December 20  2018\n",
       "3  November 16, 2017  November 16  2017\n",
       "4    January 1, 2020    January 1  2020"
      ]
     },
     "execution_count": 273,
     "metadata": {},
     "output_type": "execute_result"
    }
   ],
   "source": [
    "#new dataframe with year in new column\n",
    "date = pd.DataFrame(df['date_added'])\n",
    "added = date['date_added'].str.split(', ',expand = True)\n",
    "date['MD'] = added[0]\n",
    "date['Year'] = added[1]\n",
    "date.head()"
   ]
  },
  {
   "cell_type": "code",
   "execution_count": 256,
   "id": "190414dd",
   "metadata": {},
   "outputs": [],
   "source": [
    "def get_month(row):\n",
    "    mon = row['MD'].split(' ')\n",
    "    print(mon)\n",
    "    if len(mon) == 2:\n",
    "        return mon[0]\n",
    "    else:\n",
    "        return mon[1]"
   ]
  },
  {
   "cell_type": "code",
   "execution_count": 257,
   "id": "556e2a70",
   "metadata": {},
   "outputs": [],
   "source": [
    "def get_day(row):\n",
    "    mon = row['MD'].split(' ')\n",
    "    if len(mon) == 2:\n",
    "        return mon[1]\n",
    "    else:\n",
    "        return mon[2]"
   ]
  },
  {
   "cell_type": "code",
   "execution_count": 274,
   "id": "d1676a2b",
   "metadata": {
    "collapsed": true
   },
   "outputs": [
    {
     "name": "stdout",
     "output_type": "stream",
     "text": [
      "['August', '14']\n",
      "['December', '23']\n",
      "['December', '20']\n",
      "['November', '16']\n",
      "['January', '1']\n",
     ]
    }
   ],
   "source": [
    "# some of the Month-day combo was having ' November 1' extra space. So created a function to split the month and day from it and apply it on each row\n",
    "date['Month'] = date.apply(get_month,axis=1)\n",
    "date['Day'] = date.apply(get_day,axis=1)"
   ]
  },
  {
   "cell_type": "code",
   "execution_count": 276,
   "id": "22a5e0d8",
   "metadata": {},
   "outputs": [],
   "source": [
    "date = date.drop(['date_added','MD'], axis=1, errors='ignore')"
   ]
  },
  {
   "cell_type": "code",
   "execution_count": 277,
   "id": "4a3e0f44",
   "metadata": {},
   "outputs": [
    {
     "data": {
      "text/html": [
       "<div>\n",
       "<style scoped>\n",
       "    .dataframe tbody tr th:only-of-type {\n",
       "        vertical-align: middle;\n",
       "    }\n",
       "\n",
       "    .dataframe tbody tr th {\n",
       "        vertical-align: top;\n",
       "    }\n",
       "\n",
       "    .dataframe thead th {\n",
       "        text-align: right;\n",
       "    }\n",
       "</style>\n",
       "<table border=\"1\" class=\"dataframe\">\n",
       "  <thead>\n",
       "    <tr style=\"text-align: right;\">\n",
       "      <th></th>\n",
       "      <th>Year</th>\n",
       "      <th>Month</th>\n",
       "      <th>Day</th>\n",
       "    </tr>\n",
       "  </thead>\n",
       "  <tbody>\n",
       "    <tr>\n",
       "      <th>0</th>\n",
       "      <td>2020</td>\n",
       "      <td>August</td>\n",
       "      <td>14</td>\n",
       "    </tr>\n",
       "    <tr>\n",
       "      <th>1</th>\n",
       "      <td>2016</td>\n",
       "      <td>December</td>\n",
       "      <td>23</td>\n",
       "    </tr>\n",
       "    <tr>\n",
       "      <th>2</th>\n",
       "      <td>2018</td>\n",
       "      <td>December</td>\n",
       "      <td>20</td>\n",
       "    </tr>\n",
       "    <tr>\n",
       "      <th>3</th>\n",
       "      <td>2017</td>\n",
       "      <td>November</td>\n",
       "      <td>16</td>\n",
       "    </tr>\n",
       "    <tr>\n",
       "      <th>4</th>\n",
       "      <td>2020</td>\n",
       "      <td>January</td>\n",
       "      <td>1</td>\n",
       "    </tr>\n",
       "  </tbody>\n",
       "</table>\n",
       "</div>"
      ],
      "text/plain": [
       "   Year     Month Day\n",
       "0  2020    August  14\n",
       "1  2016  December  23\n",
       "2  2018  December  20\n",
       "3  2017  November  16\n",
       "4  2020   January   1"
      ]
     },
     "execution_count": 277,
     "metadata": {},
     "output_type": "execute_result"
    }
   ],
   "source": [
    "date.head()"
   ]
  },
  {
   "cell_type": "code",
   "execution_count": 286,
   "id": "951444a7",
   "metadata": {},
   "outputs": [
    {
     "data": {
      "text/plain": [
       "(7787, 12)"
      ]
     },
     "execution_count": 286,
     "metadata": {},
     "output_type": "execute_result"
    }
   ],
   "source": [
    "df.shape"
   ]
  },
  {
   "cell_type": "code",
   "execution_count": 287,
   "id": "0809aad0",
   "metadata": {},
   "outputs": [
    {
     "data": {
      "text/plain": [
       "(7787, 3)"
      ]
     },
     "execution_count": 287,
     "metadata": {},
     "output_type": "execute_result"
    }
   ],
   "source": [
    "date.shape"
   ]
  },
  {
   "cell_type": "code",
   "execution_count": 289,
   "id": "1408d788",
   "metadata": {},
   "outputs": [
    {
     "data": {
      "text/html": [
       "<div>\n",
       "<style scoped>\n",
       "    .dataframe tbody tr th:only-of-type {\n",
       "        vertical-align: middle;\n",
       "    }\n",
       "\n",
       "    .dataframe tbody tr th {\n",
       "        vertical-align: top;\n",
       "    }\n",
       "\n",
       "    .dataframe thead th {\n",
       "        text-align: right;\n",
       "    }\n",
       "</style>\n",
       "<table border=\"1\" class=\"dataframe\">\n",
       "  <thead>\n",
       "    <tr style=\"text-align: right;\">\n",
       "      <th></th>\n",
       "      <th>show_id</th>\n",
       "      <th>type</th>\n",
       "      <th>title</th>\n",
       "      <th>director</th>\n",
       "      <th>cast</th>\n",
       "      <th>country</th>\n",
       "      <th>date_added</th>\n",
       "      <th>release_year</th>\n",
       "      <th>rating</th>\n",
       "      <th>duration</th>\n",
       "      <th>listed_in</th>\n",
       "      <th>description</th>\n",
       "      <th>Year</th>\n",
       "      <th>Month</th>\n",
       "      <th>Day</th>\n",
       "    </tr>\n",
       "  </thead>\n",
       "  <tbody>\n",
       "    <tr>\n",
       "      <th>0</th>\n",
       "      <td>s1</td>\n",
       "      <td>TV Show</td>\n",
       "      <td>3%</td>\n",
       "      <td>NaN</td>\n",
       "      <td>João Miguel, Bianca Comparato, Michel Gomes, R...</td>\n",
       "      <td>Brazil</td>\n",
       "      <td>August 14, 2020</td>\n",
       "      <td>2020</td>\n",
       "      <td>TV-MA</td>\n",
       "      <td>4 Seasons</td>\n",
       "      <td>International TV Shows, TV Dramas, TV Sci-Fi &amp;...</td>\n",
       "      <td>In a future where the elite inhabit an island ...</td>\n",
       "      <td>2020</td>\n",
       "      <td>August</td>\n",
       "      <td>14</td>\n",
       "    </tr>\n",
       "    <tr>\n",
       "      <th>1</th>\n",
       "      <td>s2</td>\n",
       "      <td>Movie</td>\n",
       "      <td>7:19</td>\n",
       "      <td>Jorge Michel Grau</td>\n",
       "      <td>Demián Bichir, Héctor Bonilla, Oscar Serrano, ...</td>\n",
       "      <td>Mexico</td>\n",
       "      <td>December 23, 2016</td>\n",
       "      <td>2016</td>\n",
       "      <td>TV-MA</td>\n",
       "      <td>93 min</td>\n",
       "      <td>Dramas, International Movies</td>\n",
       "      <td>After a devastating earthquake hits Mexico Cit...</td>\n",
       "      <td>2016</td>\n",
       "      <td>December</td>\n",
       "      <td>23</td>\n",
       "    </tr>\n",
       "    <tr>\n",
       "      <th>2</th>\n",
       "      <td>s3</td>\n",
       "      <td>Movie</td>\n",
       "      <td>23:59</td>\n",
       "      <td>Gilbert Chan</td>\n",
       "      <td>Tedd Chan, Stella Chung, Henley Hii, Lawrence ...</td>\n",
       "      <td>Singapore</td>\n",
       "      <td>December 20, 2018</td>\n",
       "      <td>2011</td>\n",
       "      <td>R</td>\n",
       "      <td>78 min</td>\n",
       "      <td>Horror Movies, International Movies</td>\n",
       "      <td>When an army recruit is found dead, his fellow...</td>\n",
       "      <td>2018</td>\n",
       "      <td>December</td>\n",
       "      <td>20</td>\n",
       "    </tr>\n",
       "    <tr>\n",
       "      <th>3</th>\n",
       "      <td>s4</td>\n",
       "      <td>Movie</td>\n",
       "      <td>9</td>\n",
       "      <td>Shane Acker</td>\n",
       "      <td>Elijah Wood, John C. Reilly, Jennifer Connelly...</td>\n",
       "      <td>United States</td>\n",
       "      <td>November 16, 2017</td>\n",
       "      <td>2009</td>\n",
       "      <td>PG-13</td>\n",
       "      <td>80 min</td>\n",
       "      <td>Action &amp; Adventure, Independent Movies, Sci-Fi...</td>\n",
       "      <td>In a postapocalyptic world, rag-doll robots hi...</td>\n",
       "      <td>2017</td>\n",
       "      <td>November</td>\n",
       "      <td>16</td>\n",
       "    </tr>\n",
       "    <tr>\n",
       "      <th>4</th>\n",
       "      <td>s5</td>\n",
       "      <td>Movie</td>\n",
       "      <td>21</td>\n",
       "      <td>Robert Luketic</td>\n",
       "      <td>Jim Sturgess, Kevin Spacey, Kate Bosworth, Aar...</td>\n",
       "      <td>United States</td>\n",
       "      <td>January 1, 2020</td>\n",
       "      <td>2008</td>\n",
       "      <td>PG-13</td>\n",
       "      <td>123 min</td>\n",
       "      <td>Dramas</td>\n",
       "      <td>A brilliant group of students become card-coun...</td>\n",
       "      <td>2020</td>\n",
       "      <td>January</td>\n",
       "      <td>1</td>\n",
       "    </tr>\n",
       "  </tbody>\n",
       "</table>\n",
       "</div>"
      ],
      "text/plain": [
       "  show_id     type  title           director  \\\n",
       "0      s1  TV Show     3%                NaN   \n",
       "1      s2    Movie   7:19  Jorge Michel Grau   \n",
       "2      s3    Movie  23:59       Gilbert Chan   \n",
       "3      s4    Movie      9        Shane Acker   \n",
       "4      s5    Movie     21     Robert Luketic   \n",
       "\n",
       "                                                cast        country  \\\n",
       "0  João Miguel, Bianca Comparato, Michel Gomes, R...         Brazil   \n",
       "1  Demián Bichir, Héctor Bonilla, Oscar Serrano, ...         Mexico   \n",
       "2  Tedd Chan, Stella Chung, Henley Hii, Lawrence ...      Singapore   \n",
       "3  Elijah Wood, John C. Reilly, Jennifer Connelly...  United States   \n",
       "4  Jim Sturgess, Kevin Spacey, Kate Bosworth, Aar...  United States   \n",
       "\n",
       "          date_added  release_year rating   duration  \\\n",
       "0    August 14, 2020          2020  TV-MA  4 Seasons   \n",
       "1  December 23, 2016          2016  TV-MA     93 min   \n",
       "2  December 20, 2018          2011      R     78 min   \n",
       "3  November 16, 2017          2009  PG-13     80 min   \n",
       "4    January 1, 2020          2008  PG-13    123 min   \n",
       "\n",
       "                                           listed_in  \\\n",
       "0  International TV Shows, TV Dramas, TV Sci-Fi &...   \n",
       "1                       Dramas, International Movies   \n",
       "2                Horror Movies, International Movies   \n",
       "3  Action & Adventure, Independent Movies, Sci-Fi...   \n",
       "4                                             Dramas   \n",
       "\n",
       "                                         description  Year     Month Day  \n",
       "0  In a future where the elite inhabit an island ...  2020    August  14  \n",
       "1  After a devastating earthquake hits Mexico Cit...  2016  December  23  \n",
       "2  When an army recruit is found dead, his fellow...  2018  December  20  \n",
       "3  In a postapocalyptic world, rag-doll robots hi...  2017  November  16  \n",
       "4  A brilliant group of students become card-coun...  2020   January   1  "
      ]
     },
     "execution_count": 289,
     "metadata": {},
     "output_type": "execute_result"
    }
   ],
   "source": [
    "df = pd.concat([df, date],axis=1)\n",
    "df.head()"
   ]
  },
  {
   "cell_type": "code",
   "execution_count": 64,
   "id": "9c369557",
   "metadata": {},
   "outputs": [
    {
     "name": "stderr",
     "output_type": "stream",
     "text": [
      "C:\\Users\\aurorarch\\Anaconda3\\lib\\site-packages\\seaborn\\_decorators.py:43: FutureWarning: Pass the following variable as a keyword arg: x. From version 0.12, the only valid positional argument will be `data`, and passing other arguments without an explicit keyword will result in an error or misinterpretation.\n",
      "  FutureWarning\n"
     ]
    },
    {
     "data": {
      "image/png": "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\n",
      "text/plain": [
       "<Figure size 432x432 with 1 Axes>"
      ]
     },
     "metadata": {
      "needs_background": "light"
     },
     "output_type": "display_data"
    }
   ],
   "source": [
    "plt.figure(figsize=(6,6))\n",
    "sns.countplot(df['Year'],order=['2010','2011','2012','2013','2014','2015','2016','2017','2018','2019','2020','2021'])\n",
    "plt.xticks(rotation=45)\n",
    "plt.title('Content added by year')\n",
    "plt.show()"
   ]
  },
  {
   "cell_type": "code",
   "execution_count": 290,
   "id": "98b1ba49",
   "metadata": {
    "collapsed": true
   },
   "outputs": [
    {
     "data": {
      "text/html": [
       "<div>\n",
       "<style scoped>\n",
       "    .dataframe tbody tr th:only-of-type {\n",
       "        vertical-align: middle;\n",
       "    }\n",
       "\n",
       "    .dataframe tbody tr th {\n",
       "        vertical-align: top;\n",
       "    }\n",
       "\n",
       "    .dataframe thead th {\n",
       "        text-align: right;\n",
       "    }\n",
       "</style>\n",
       "<table border=\"1\" class=\"dataframe\">\n",
       "  <thead>\n",
       "    <tr style=\"text-align: right;\">\n",
       "      <th></th>\n",
       "      <th>show_id</th>\n",
       "      <th>type</th>\n",
       "      <th>title</th>\n",
       "      <th>director</th>\n",
       "      <th>cast</th>\n",
       "      <th>country</th>\n",
       "      <th>date_added</th>\n",
       "      <th>release_year</th>\n",
       "      <th>rating</th>\n",
       "      <th>duration</th>\n",
       "      <th>listed_in</th>\n",
       "      <th>description</th>\n",
       "      <th>Year</th>\n",
       "      <th>Month</th>\n",
       "      <th>Day</th>\n",
       "    </tr>\n",
       "  </thead>\n",
       "  <tbody>\n",
       "    <tr>\n",
       "      <th>0</th>\n",
       "      <td>s1</td>\n",
       "      <td>TV Show</td>\n",
       "      <td>3%</td>\n",
       "      <td>NaN</td>\n",
       "      <td>João Miguel, Bianca Comparato, Michel Gomes, R...</td>\n",
       "      <td>Brazil</td>\n",
       "      <td>August 14, 2020</td>\n",
       "      <td>2020</td>\n",
       "      <td>TV-MA</td>\n",
       "      <td>4 Seasons</td>\n",
       "      <td>International TV Shows, TV Dramas, TV Sci-Fi &amp;...</td>\n",
       "      <td>In a future where the elite inhabit an island ...</td>\n",
       "      <td>2020</td>\n",
       "      <td>8</td>\n",
       "      <td>14</td>\n",
       "    </tr>\n",
       "    <tr>\n",
       "      <th>1</th>\n",
       "      <td>s2</td>\n",
       "      <td>Movie</td>\n",
       "      <td>7:19</td>\n",
       "      <td>Jorge Michel Grau</td>\n",
       "      <td>Demián Bichir, Héctor Bonilla, Oscar Serrano, ...</td>\n",
       "      <td>Mexico</td>\n",
       "      <td>December 23, 2016</td>\n",
       "      <td>2016</td>\n",
       "      <td>TV-MA</td>\n",
       "      <td>93 min</td>\n",
       "      <td>Dramas, International Movies</td>\n",
       "      <td>After a devastating earthquake hits Mexico Cit...</td>\n",
       "      <td>2016</td>\n",
       "      <td>12</td>\n",
       "      <td>23</td>\n",
       "    </tr>\n",
       "    <tr>\n",
       "      <th>2</th>\n",
       "      <td>s3</td>\n",
       "      <td>Movie</td>\n",
       "      <td>23:59</td>\n",
       "      <td>Gilbert Chan</td>\n",
       "      <td>Tedd Chan, Stella Chung, Henley Hii, Lawrence ...</td>\n",
       "      <td>Singapore</td>\n",
       "      <td>December 20, 2018</td>\n",
       "      <td>2011</td>\n",
       "      <td>R</td>\n",
       "      <td>78 min</td>\n",
       "      <td>Horror Movies, International Movies</td>\n",
       "      <td>When an army recruit is found dead, his fellow...</td>\n",
       "      <td>2018</td>\n",
       "      <td>12</td>\n",
       "      <td>20</td>\n",
       "    </tr>\n",
       "    <tr>\n",
       "      <th>3</th>\n",
       "      <td>s4</td>\n",
       "      <td>Movie</td>\n",
       "      <td>9</td>\n",
       "      <td>Shane Acker</td>\n",
       "      <td>Elijah Wood, John C. Reilly, Jennifer Connelly...</td>\n",
       "      <td>United States</td>\n",
       "      <td>November 16, 2017</td>\n",
       "      <td>2009</td>\n",
       "      <td>PG-13</td>\n",
       "      <td>80 min</td>\n",
       "      <td>Action &amp; Adventure, Independent Movies, Sci-Fi...</td>\n",
       "      <td>In a postapocalyptic world, rag-doll robots hi...</td>\n",
       "      <td>2017</td>\n",
       "      <td>11</td>\n",
       "      <td>16</td>\n",
       "    </tr>\n",
       "    <tr>\n",
       "      <th>4</th>\n",
       "      <td>s5</td>\n",
       "      <td>Movie</td>\n",
       "      <td>21</td>\n",
       "      <td>Robert Luketic</td>\n",
       "      <td>Jim Sturgess, Kevin Spacey, Kate Bosworth, Aar...</td>\n",
       "      <td>United States</td>\n",
       "      <td>January 1, 2020</td>\n",
       "      <td>2008</td>\n",
       "      <td>PG-13</td>\n",
       "      <td>123 min</td>\n",
       "      <td>Dramas</td>\n",
       "      <td>A brilliant group of students become card-coun...</td>\n",
       "      <td>2020</td>\n",
       "      <td>1</td>\n",
       "      <td>1</td>\n",
       "    </tr>\n",
       "  </tbody>\n",
       "</table>\n",
       "</div>"
      ],
      "text/plain": [
       "  show_id     type  title           director  \\\n",
       "0      s1  TV Show     3%                NaN   \n",
       "1      s2    Movie   7:19  Jorge Michel Grau   \n",
       "2      s3    Movie  23:59       Gilbert Chan   \n",
       "3      s4    Movie      9        Shane Acker   \n",
       "4      s5    Movie     21     Robert Luketic   \n",
       "\n",
       "                                                cast        country  \\\n",
       "0  João Miguel, Bianca Comparato, Michel Gomes, R...         Brazil   \n",
       "1  Demián Bichir, Héctor Bonilla, Oscar Serrano, ...         Mexico   \n",
       "2  Tedd Chan, Stella Chung, Henley Hii, Lawrence ...      Singapore   \n",
       "3  Elijah Wood, John C. Reilly, Jennifer Connelly...  United States   \n",
       "4  Jim Sturgess, Kevin Spacey, Kate Bosworth, Aar...  United States   \n",
       "\n",
       "          date_added  release_year rating   duration  \\\n",
       "0    August 14, 2020          2020  TV-MA  4 Seasons   \n",
       "1  December 23, 2016          2016  TV-MA     93 min   \n",
       "2  December 20, 2018          2011      R     78 min   \n",
       "3  November 16, 2017          2009  PG-13     80 min   \n",
       "4    January 1, 2020          2008  PG-13    123 min   \n",
       "\n",
       "                                           listed_in  \\\n",
       "0  International TV Shows, TV Dramas, TV Sci-Fi &...   \n",
       "1                       Dramas, International Movies   \n",
       "2                Horror Movies, International Movies   \n",
       "3  Action & Adventure, Independent Movies, Sci-Fi...   \n",
       "4                                             Dramas   \n",
       "\n",
       "                                         description  Year  Month Day  \n",
       "0  In a future where the elite inhabit an island ...  2020      8  14  \n",
       "1  After a devastating earthquake hits Mexico Cit...  2016     12  23  \n",
       "2  When an army recruit is found dead, his fellow...  2018     12  20  \n",
       "3  In a postapocalyptic world, rag-doll robots hi...  2017     11  16  \n",
       "4  A brilliant group of students become card-coun...  2020      1   1  "
      ]
     },
     "execution_count": 290,
     "metadata": {},
     "output_type": "execute_result"
    }
   ],
   "source": [
    "d = {'January':1, 'February':2, 'March':3, 'April':4, 'May':5, 'June':6, 'July':7, 'August':8, 'September':9, 'October':10, 'November':11, 'December':12}\n",
    "df['Month'] = df['Month'].map(d).astype('Int8')\n",
    "df.head()"
   ]
  },
  {
   "cell_type": "code",
   "execution_count": 293,
   "id": "dc62093c",
   "metadata": {},
   "outputs": [],
   "source": [
    "import datetime\n",
    "\n",
    "def get_weekdays(x):\n",
    "    t = datetime.datetime(int(x['Year']), int(x['Month']), int(x['Day']))\n",
    "    return t.weekday()\n",
    "\n",
    "df['WeekDay'] = df.apply(get_weekdays,axis=1)"
   ]
  },
  {
   "cell_type": "code",
   "execution_count": 294,
   "id": "54cb7582",
   "metadata": {},
   "outputs": [
    {
     "data": {
      "text/html": [
       "<div>\n",
       "<style scoped>\n",
       "    .dataframe tbody tr th:only-of-type {\n",
       "        vertical-align: middle;\n",
       "    }\n",
       "\n",
       "    .dataframe tbody tr th {\n",
       "        vertical-align: top;\n",
       "    }\n",
       "\n",
       "    .dataframe thead th {\n",
       "        text-align: right;\n",
       "    }\n",
       "</style>\n",
       "<table border=\"1\" class=\"dataframe\">\n",
       "  <thead>\n",
       "    <tr style=\"text-align: right;\">\n",
       "      <th></th>\n",
       "      <th>show_id</th>\n",
       "      <th>type</th>\n",
       "      <th>title</th>\n",
       "      <th>director</th>\n",
       "      <th>cast</th>\n",
       "      <th>country</th>\n",
       "      <th>date_added</th>\n",
       "      <th>release_year</th>\n",
       "      <th>rating</th>\n",
       "      <th>duration</th>\n",
       "      <th>listed_in</th>\n",
       "      <th>description</th>\n",
       "      <th>Year</th>\n",
       "      <th>Month</th>\n",
       "      <th>Day</th>\n",
       "      <th>WeekDay</th>\n",
       "    </tr>\n",
       "  </thead>\n",
       "  <tbody>\n",
       "    <tr>\n",
       "      <th>0</th>\n",
       "      <td>s1</td>\n",
       "      <td>TV Show</td>\n",
       "      <td>3%</td>\n",
       "      <td>NaN</td>\n",
       "      <td>João Miguel, Bianca Comparato, Michel Gomes, R...</td>\n",
       "      <td>Brazil</td>\n",
       "      <td>August 14, 2020</td>\n",
       "      <td>2020</td>\n",
       "      <td>TV-MA</td>\n",
       "      <td>4 Seasons</td>\n",
       "      <td>International TV Shows, TV Dramas, TV Sci-Fi &amp;...</td>\n",
       "      <td>In a future where the elite inhabit an island ...</td>\n",
       "      <td>2020</td>\n",
       "      <td>8</td>\n",
       "      <td>14</td>\n",
       "      <td>4</td>\n",
       "    </tr>\n",
       "    <tr>\n",
       "      <th>1</th>\n",
       "      <td>s2</td>\n",
       "      <td>Movie</td>\n",
       "      <td>7:19</td>\n",
       "      <td>Jorge Michel Grau</td>\n",
       "      <td>Demián Bichir, Héctor Bonilla, Oscar Serrano, ...</td>\n",
       "      <td>Mexico</td>\n",
       "      <td>December 23, 2016</td>\n",
       "      <td>2016</td>\n",
       "      <td>TV-MA</td>\n",
       "      <td>93 min</td>\n",
       "      <td>Dramas, International Movies</td>\n",
       "      <td>After a devastating earthquake hits Mexico Cit...</td>\n",
       "      <td>2016</td>\n",
       "      <td>12</td>\n",
       "      <td>23</td>\n",
       "      <td>4</td>\n",
       "    </tr>\n",
       "    <tr>\n",
       "      <th>2</th>\n",
       "      <td>s3</td>\n",
       "      <td>Movie</td>\n",
       "      <td>23:59</td>\n",
       "      <td>Gilbert Chan</td>\n",
       "      <td>Tedd Chan, Stella Chung, Henley Hii, Lawrence ...</td>\n",
       "      <td>Singapore</td>\n",
       "      <td>December 20, 2018</td>\n",
       "      <td>2011</td>\n",
       "      <td>R</td>\n",
       "      <td>78 min</td>\n",
       "      <td>Horror Movies, International Movies</td>\n",
       "      <td>When an army recruit is found dead, his fellow...</td>\n",
       "      <td>2018</td>\n",
       "      <td>12</td>\n",
       "      <td>20</td>\n",
       "      <td>3</td>\n",
       "    </tr>\n",
       "    <tr>\n",
       "      <th>3</th>\n",
       "      <td>s4</td>\n",
       "      <td>Movie</td>\n",
       "      <td>9</td>\n",
       "      <td>Shane Acker</td>\n",
       "      <td>Elijah Wood, John C. Reilly, Jennifer Connelly...</td>\n",
       "      <td>United States</td>\n",
       "      <td>November 16, 2017</td>\n",
       "      <td>2009</td>\n",
       "      <td>PG-13</td>\n",
       "      <td>80 min</td>\n",
       "      <td>Action &amp; Adventure, Independent Movies, Sci-Fi...</td>\n",
       "      <td>In a postapocalyptic world, rag-doll robots hi...</td>\n",
       "      <td>2017</td>\n",
       "      <td>11</td>\n",
       "      <td>16</td>\n",
       "      <td>3</td>\n",
       "    </tr>\n",
       "    <tr>\n",
       "      <th>4</th>\n",
       "      <td>s5</td>\n",
       "      <td>Movie</td>\n",
       "      <td>21</td>\n",
       "      <td>Robert Luketic</td>\n",
       "      <td>Jim Sturgess, Kevin Spacey, Kate Bosworth, Aar...</td>\n",
       "      <td>United States</td>\n",
       "      <td>January 1, 2020</td>\n",
       "      <td>2008</td>\n",
       "      <td>PG-13</td>\n",
       "      <td>123 min</td>\n",
       "      <td>Dramas</td>\n",
       "      <td>A brilliant group of students become card-coun...</td>\n",
       "      <td>2020</td>\n",
       "      <td>1</td>\n",
       "      <td>1</td>\n",
       "      <td>2</td>\n",
       "    </tr>\n",
       "  </tbody>\n",
       "</table>\n",
       "</div>"
      ],
      "text/plain": [
       "  show_id     type  title           director  \\\n",
       "0      s1  TV Show     3%                NaN   \n",
       "1      s2    Movie   7:19  Jorge Michel Grau   \n",
       "2      s3    Movie  23:59       Gilbert Chan   \n",
       "3      s4    Movie      9        Shane Acker   \n",
       "4      s5    Movie     21     Robert Luketic   \n",
       "\n",
       "                                                cast        country  \\\n",
       "0  João Miguel, Bianca Comparato, Michel Gomes, R...         Brazil   \n",
       "1  Demián Bichir, Héctor Bonilla, Oscar Serrano, ...         Mexico   \n",
       "2  Tedd Chan, Stella Chung, Henley Hii, Lawrence ...      Singapore   \n",
       "3  Elijah Wood, John C. Reilly, Jennifer Connelly...  United States   \n",
       "4  Jim Sturgess, Kevin Spacey, Kate Bosworth, Aar...  United States   \n",
       "\n",
       "          date_added  release_year rating   duration  \\\n",
       "0    August 14, 2020          2020  TV-MA  4 Seasons   \n",
       "1  December 23, 2016          2016  TV-MA     93 min   \n",
       "2  December 20, 2018          2011      R     78 min   \n",
       "3  November 16, 2017          2009  PG-13     80 min   \n",
       "4    January 1, 2020          2008  PG-13    123 min   \n",
       "\n",
       "                                           listed_in  \\\n",
       "0  International TV Shows, TV Dramas, TV Sci-Fi &...   \n",
       "1                       Dramas, International Movies   \n",
       "2                Horror Movies, International Movies   \n",
       "3  Action & Adventure, Independent Movies, Sci-Fi...   \n",
       "4                                             Dramas   \n",
       "\n",
       "                                         description  Year  Month Day  WeekDay  \n",
       "0  In a future where the elite inhabit an island ...  2020      8  14        4  \n",
       "1  After a devastating earthquake hits Mexico Cit...  2016     12  23        4  \n",
       "2  When an army recruit is found dead, his fellow...  2018     12  20        3  \n",
       "3  In a postapocalyptic world, rag-doll robots hi...  2017     11  16        3  \n",
       "4  A brilliant group of students become card-coun...  2020      1   1        2  "
      ]
     },
     "execution_count": 294,
     "metadata": {},
     "output_type": "execute_result"
    }
   ],
   "source": [
    "df.head()"
   ]
  },
  {
   "cell_type": "code",
   "execution_count": 297,
   "id": "1a32aaeb",
   "metadata": {},
   "outputs": [
    {
     "data": {
      "text/plain": [
       "4    2287\n",
       "3    1147\n",
       "1    1070\n",
       "2    1030\n",
       "0     814\n",
       "5     731\n",
       "6     708\n",
       "Name: WeekDay, dtype: int64"
      ]
     },
     "execution_count": 297,
     "metadata": {},
     "output_type": "execute_result"
    }
   ],
   "source": [
    "df['WeekDay'].value_counts()"
   ]
  },
  {
   "cell_type": "code",
   "execution_count": 292,
   "id": "78deaa58",
   "metadata": {},
   "outputs": [
    {
     "data": {
      "text/plain": [
       "show_id            0\n",
       "type               0\n",
       "title              0\n",
       "director        2389\n",
       "cast             718\n",
       "country          507\n",
       "date_added         0\n",
       "release_year       0\n",
       "rating             7\n",
       "duration           0\n",
       "listed_in          0\n",
       "description        0\n",
       "Year               0\n",
       "Month              0\n",
       "Day                0\n",
       "dtype: int64"
      ]
     },
     "execution_count": 292,
     "metadata": {},
     "output_type": "execute_result"
    }
   ],
   "source": [
    "df.isnull().sum()"
   ]
  },
  {
   "cell_type": "code",
   "execution_count": 291,
   "id": "b4a268b2",
   "metadata": {},
   "outputs": [
    {
     "name": "stdout",
     "output_type": "stream",
     "text": [
      "<class 'pandas.core.frame.DataFrame'>\n",
      "RangeIndex: 7787 entries, 0 to 7786\n",
      "Data columns (total 15 columns):\n",
      " #   Column        Non-Null Count  Dtype \n",
      "---  ------        --------------  ----- \n",
      " 0   show_id       7787 non-null   object\n",
      " 1   type          7787 non-null   object\n",
      " 2   title         7787 non-null   object\n",
      " 3   director      5398 non-null   object\n",
      " 4   cast          7069 non-null   object\n",
      " 5   country       7280 non-null   object\n",
      " 6   date_added    7787 non-null   object\n",
      " 7   release_year  7787 non-null   int64 \n",
      " 8   rating        7780 non-null   object\n",
      " 9   duration      7787 non-null   object\n",
      " 10  listed_in     7787 non-null   object\n",
      " 11  description   7787 non-null   object\n",
      " 12  Year          7787 non-null   object\n",
      " 13  Month         7787 non-null   Int8  \n",
      " 14  Day           7787 non-null   object\n",
      "dtypes: Int8(1), int64(1), object(13)\n",
      "memory usage: 867.0+ KB\n"
     ]
    }
   ],
   "source": [
    "df.info()"
   ]
  },
  {
   "cell_type": "code",
   "execution_count": 298,
   "id": "c3717aec",
   "metadata": {},
   "outputs": [
    {
     "data": {
      "text/html": [
       "<div>\n",
       "<style scoped>\n",
       "    .dataframe tbody tr th:only-of-type {\n",
       "        vertical-align: middle;\n",
       "    }\n",
       "\n",
       "    .dataframe tbody tr th {\n",
       "        vertical-align: top;\n",
       "    }\n",
       "\n",
       "    .dataframe thead th {\n",
       "        text-align: right;\n",
       "    }\n",
       "</style>\n",
       "<table border=\"1\" class=\"dataframe\">\n",
       "  <thead>\n",
       "    <tr style=\"text-align: right;\">\n",
       "      <th></th>\n",
       "      <th>show_id</th>\n",
       "      <th>type</th>\n",
       "      <th>title</th>\n",
       "      <th>director</th>\n",
       "      <th>cast</th>\n",
       "      <th>country</th>\n",
       "      <th>date_added</th>\n",
       "      <th>release_year</th>\n",
       "      <th>rating</th>\n",
       "      <th>duration</th>\n",
       "      <th>listed_in</th>\n",
       "      <th>description</th>\n",
       "      <th>Year</th>\n",
       "      <th>Month</th>\n",
       "      <th>Day</th>\n",
       "      <th>WeekDay</th>\n",
       "    </tr>\n",
       "  </thead>\n",
       "  <tbody>\n",
       "    <tr>\n",
       "      <th>0</th>\n",
       "      <td>s1</td>\n",
       "      <td>TV Show</td>\n",
       "      <td>3%</td>\n",
       "      <td>NaN</td>\n",
       "      <td>João Miguel, Bianca Comparato, Michel Gomes, R...</td>\n",
       "      <td>Brazil</td>\n",
       "      <td>August 14, 2020</td>\n",
       "      <td>2020</td>\n",
       "      <td>TV-MA</td>\n",
       "      <td>4 Seasons</td>\n",
       "      <td>International TV Shows, TV Dramas, TV Sci-Fi &amp;...</td>\n",
       "      <td>In a future where the elite inhabit an island ...</td>\n",
       "      <td>2020</td>\n",
       "      <td>8</td>\n",
       "      <td>14</td>\n",
       "      <td>4</td>\n",
       "    </tr>\n",
       "    <tr>\n",
       "      <th>1</th>\n",
       "      <td>s2</td>\n",
       "      <td>Movie</td>\n",
       "      <td>7:19</td>\n",
       "      <td>Jorge Michel Grau</td>\n",
       "      <td>Demián Bichir, Héctor Bonilla, Oscar Serrano, ...</td>\n",
       "      <td>Mexico</td>\n",
       "      <td>December 23, 2016</td>\n",
       "      <td>2016</td>\n",
       "      <td>TV-MA</td>\n",
       "      <td>93 min</td>\n",
       "      <td>Dramas, International Movies</td>\n",
       "      <td>After a devastating earthquake hits Mexico Cit...</td>\n",
       "      <td>2016</td>\n",
       "      <td>12</td>\n",
       "      <td>23</td>\n",
       "      <td>4</td>\n",
       "    </tr>\n",
       "    <tr>\n",
       "      <th>2</th>\n",
       "      <td>s3</td>\n",
       "      <td>Movie</td>\n",
       "      <td>23:59</td>\n",
       "      <td>Gilbert Chan</td>\n",
       "      <td>Tedd Chan, Stella Chung, Henley Hii, Lawrence ...</td>\n",
       "      <td>Singapore</td>\n",
       "      <td>December 20, 2018</td>\n",
       "      <td>2011</td>\n",
       "      <td>R</td>\n",
       "      <td>78 min</td>\n",
       "      <td>Horror Movies, International Movies</td>\n",
       "      <td>When an army recruit is found dead, his fellow...</td>\n",
       "      <td>2018</td>\n",
       "      <td>12</td>\n",
       "      <td>20</td>\n",
       "      <td>3</td>\n",
       "    </tr>\n",
       "    <tr>\n",
       "      <th>3</th>\n",
       "      <td>s4</td>\n",
       "      <td>Movie</td>\n",
       "      <td>9</td>\n",
       "      <td>Shane Acker</td>\n",
       "      <td>Elijah Wood, John C. Reilly, Jennifer Connelly...</td>\n",
       "      <td>United States</td>\n",
       "      <td>November 16, 2017</td>\n",
       "      <td>2009</td>\n",
       "      <td>PG-13</td>\n",
       "      <td>80 min</td>\n",
       "      <td>Action &amp; Adventure, Independent Movies, Sci-Fi...</td>\n",
       "      <td>In a postapocalyptic world, rag-doll robots hi...</td>\n",
       "      <td>2017</td>\n",
       "      <td>11</td>\n",
       "      <td>16</td>\n",
       "      <td>3</td>\n",
       "    </tr>\n",
       "    <tr>\n",
       "      <th>4</th>\n",
       "      <td>s5</td>\n",
       "      <td>Movie</td>\n",
       "      <td>21</td>\n",
       "      <td>Robert Luketic</td>\n",
       "      <td>Jim Sturgess, Kevin Spacey, Kate Bosworth, Aar...</td>\n",
       "      <td>United States</td>\n",
       "      <td>January 1, 2020</td>\n",
       "      <td>2008</td>\n",
       "      <td>PG-13</td>\n",
       "      <td>123 min</td>\n",
       "      <td>Dramas</td>\n",
       "      <td>A brilliant group of students become card-coun...</td>\n",
       "      <td>2020</td>\n",
       "      <td>1</td>\n",
       "      <td>1</td>\n",
       "      <td>2</td>\n",
       "    </tr>\n",
       "  </tbody>\n",
       "</table>\n",
       "</div>"
      ],
      "text/plain": [
       "  show_id     type  title           director  \\\n",
       "0      s1  TV Show     3%                NaN   \n",
       "1      s2    Movie   7:19  Jorge Michel Grau   \n",
       "2      s3    Movie  23:59       Gilbert Chan   \n",
       "3      s4    Movie      9        Shane Acker   \n",
       "4      s5    Movie     21     Robert Luketic   \n",
       "\n",
       "                                                cast        country  \\\n",
       "0  João Miguel, Bianca Comparato, Michel Gomes, R...         Brazil   \n",
       "1  Demián Bichir, Héctor Bonilla, Oscar Serrano, ...         Mexico   \n",
       "2  Tedd Chan, Stella Chung, Henley Hii, Lawrence ...      Singapore   \n",
       "3  Elijah Wood, John C. Reilly, Jennifer Connelly...  United States   \n",
       "4  Jim Sturgess, Kevin Spacey, Kate Bosworth, Aar...  United States   \n",
       "\n",
       "          date_added  release_year rating   duration  \\\n",
       "0    August 14, 2020          2020  TV-MA  4 Seasons   \n",
       "1  December 23, 2016          2016  TV-MA     93 min   \n",
       "2  December 20, 2018          2011      R     78 min   \n",
       "3  November 16, 2017          2009  PG-13     80 min   \n",
       "4    January 1, 2020          2008  PG-13    123 min   \n",
       "\n",
       "                                           listed_in  \\\n",
       "0  International TV Shows, TV Dramas, TV Sci-Fi &...   \n",
       "1                       Dramas, International Movies   \n",
       "2                Horror Movies, International Movies   \n",
       "3  Action & Adventure, Independent Movies, Sci-Fi...   \n",
       "4                                             Dramas   \n",
       "\n",
       "                                         description  Year  Month Day  WeekDay  \n",
       "0  In a future where the elite inhabit an island ...  2020      8  14        4  \n",
       "1  After a devastating earthquake hits Mexico Cit...  2016     12  23        4  \n",
       "2  When an army recruit is found dead, his fellow...  2018     12  20        3  \n",
       "3  In a postapocalyptic world, rag-doll robots hi...  2017     11  16        3  \n",
       "4  A brilliant group of students become card-coun...  2020      1   1        2  "
      ]
     },
     "execution_count": 298,
     "metadata": {},
     "output_type": "execute_result"
    }
   ],
   "source": [
    "df.head()"
   ]
  },
  {
   "cell_type": "code",
   "execution_count": 302,
   "id": "4659c39d",
   "metadata": {},
   "outputs": [
    {
     "name": "stderr",
     "output_type": "stream",
     "text": [
      "C:\\Users\\aurorarch\\Anaconda3\\lib\\site-packages\\seaborn\\_decorators.py:43: FutureWarning: Pass the following variable as a keyword arg: x. From version 0.12, the only valid positional argument will be `data`, and passing other arguments without an explicit keyword will result in an error or misinterpretation.\n",
      "  FutureWarning\n"
     ]
    },
    {
     "data": {
      "text/plain": [
       "<AxesSubplot:xlabel='Day', ylabel='count'>"
      ]
     },
     "execution_count": 302,
     "metadata": {},
     "output_type": "execute_result"
    },
    {
     "data": {
      "image/png": "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\n",
      "text/plain": [
       "<Figure size 576x576 with 1 Axes>"
      ]
     },
     "metadata": {
      "needs_background": "light"
     },
     "output_type": "display_data"
    }
   ],
   "source": [
    "plt.figure(figsize=(8,8))\n",
    "sns.countplot(df['Day'],order = df['Day'].value_counts().index)"
   ]
  },
  {
   "cell_type": "code",
   "execution_count": 310,
   "id": "02632e91",
   "metadata": {},
   "outputs": [
    {
     "name": "stderr",
     "output_type": "stream",
     "text": [
      "C:\\Users\\aurorarch\\Anaconda3\\lib\\site-packages\\seaborn\\_decorators.py:43: FutureWarning: Pass the following variable as a keyword arg: x. From version 0.12, the only valid positional argument will be `data`, and passing other arguments without an explicit keyword will result in an error or misinterpretation.\n",
      "  FutureWarning\n"
     ]
    },
    {
     "data": {
      "text/plain": [
       "<AxesSubplot:xlabel='WeekDay', ylabel='count'>"
      ]
     },
     "execution_count": 310,
     "metadata": {},
     "output_type": "execute_result"
    },
    {
     "data": {
      "image/png": "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\n",
      "text/plain": [
       "<Figure size 576x576 with 1 Axes>"
      ]
     },
     "metadata": {
      "needs_background": "light"
     },
     "output_type": "display_data"
    }
   ],
   "source": [
    "plt.figure(figsize=(8,8))\n",
    "d = {0:'Monday', 1:'Tuesday', 2:'Wednesday', 3:'Thursday', 4:'Friday', 5:'Saturday', 6:'Sunday'}\n",
    "x = df['WeekDay'].map(d)\n",
    "sns.countplot(x,order = x.value_counts().index)"
   ]
  },
  {
   "cell_type": "code",
   "execution_count": 307,
   "id": "9e274e2a",
   "metadata": {},
   "outputs": [
    {
     "data": {
      "text/html": [
       "<div>\n",
       "<style scoped>\n",
       "    .dataframe tbody tr th:only-of-type {\n",
       "        vertical-align: middle;\n",
       "    }\n",
       "\n",
       "    .dataframe tbody tr th {\n",
       "        vertical-align: top;\n",
       "    }\n",
       "\n",
       "    .dataframe thead th {\n",
       "        text-align: right;\n",
       "    }\n",
       "</style>\n",
       "<table border=\"1\" class=\"dataframe\">\n",
       "  <thead>\n",
       "    <tr style=\"text-align: right;\">\n",
       "      <th></th>\n",
       "      <th>show_id</th>\n",
       "      <th>type</th>\n",
       "      <th>title</th>\n",
       "      <th>director</th>\n",
       "      <th>cast</th>\n",
       "      <th>country</th>\n",
       "      <th>date_added</th>\n",
       "      <th>release_year</th>\n",
       "      <th>rating</th>\n",
       "      <th>duration</th>\n",
       "      <th>listed_in</th>\n",
       "      <th>description</th>\n",
       "      <th>Year</th>\n",
       "      <th>Month</th>\n",
       "      <th>Day</th>\n",
       "      <th>WeekDay</th>\n",
       "    </tr>\n",
       "  </thead>\n",
       "  <tbody>\n",
       "    <tr>\n",
       "      <th>0</th>\n",
       "      <td>s1</td>\n",
       "      <td>TV Show</td>\n",
       "      <td>3%</td>\n",
       "      <td>NaN</td>\n",
       "      <td>João Miguel, Bianca Comparato, Michel Gomes, R...</td>\n",
       "      <td>Brazil</td>\n",
       "      <td>August 14, 2020</td>\n",
       "      <td>2020</td>\n",
       "      <td>TV-MA</td>\n",
       "      <td>4 Seasons</td>\n",
       "      <td>International TV Shows, TV Dramas, TV Sci-Fi &amp;...</td>\n",
       "      <td>In a future where the elite inhabit an island ...</td>\n",
       "      <td>2020</td>\n",
       "      <td>8</td>\n",
       "      <td>14</td>\n",
       "      <td>4</td>\n",
       "    </tr>\n",
       "    <tr>\n",
       "      <th>1</th>\n",
       "      <td>s2</td>\n",
       "      <td>Movie</td>\n",
       "      <td>7:19</td>\n",
       "      <td>Jorge Michel Grau</td>\n",
       "      <td>Demián Bichir, Héctor Bonilla, Oscar Serrano, ...</td>\n",
       "      <td>Mexico</td>\n",
       "      <td>December 23, 2016</td>\n",
       "      <td>2016</td>\n",
       "      <td>TV-MA</td>\n",
       "      <td>93 min</td>\n",
       "      <td>Dramas, International Movies</td>\n",
       "      <td>After a devastating earthquake hits Mexico Cit...</td>\n",
       "      <td>2016</td>\n",
       "      <td>12</td>\n",
       "      <td>23</td>\n",
       "      <td>4</td>\n",
       "    </tr>\n",
       "    <tr>\n",
       "      <th>2</th>\n",
       "      <td>s3</td>\n",
       "      <td>Movie</td>\n",
       "      <td>23:59</td>\n",
       "      <td>Gilbert Chan</td>\n",
       "      <td>Tedd Chan, Stella Chung, Henley Hii, Lawrence ...</td>\n",
       "      <td>Singapore</td>\n",
       "      <td>December 20, 2018</td>\n",
       "      <td>2011</td>\n",
       "      <td>R</td>\n",
       "      <td>78 min</td>\n",
       "      <td>Horror Movies, International Movies</td>\n",
       "      <td>When an army recruit is found dead, his fellow...</td>\n",
       "      <td>2018</td>\n",
       "      <td>12</td>\n",
       "      <td>20</td>\n",
       "      <td>3</td>\n",
       "    </tr>\n",
       "    <tr>\n",
       "      <th>3</th>\n",
       "      <td>s4</td>\n",
       "      <td>Movie</td>\n",
       "      <td>9</td>\n",
       "      <td>Shane Acker</td>\n",
       "      <td>Elijah Wood, John C. Reilly, Jennifer Connelly...</td>\n",
       "      <td>United States</td>\n",
       "      <td>November 16, 2017</td>\n",
       "      <td>2009</td>\n",
       "      <td>PG-13</td>\n",
       "      <td>80 min</td>\n",
       "      <td>Action &amp; Adventure, Independent Movies, Sci-Fi...</td>\n",
       "      <td>In a postapocalyptic world, rag-doll robots hi...</td>\n",
       "      <td>2017</td>\n",
       "      <td>11</td>\n",
       "      <td>16</td>\n",
       "      <td>3</td>\n",
       "    </tr>\n",
       "    <tr>\n",
       "      <th>4</th>\n",
       "      <td>s5</td>\n",
       "      <td>Movie</td>\n",
       "      <td>21</td>\n",
       "      <td>Robert Luketic</td>\n",
       "      <td>Jim Sturgess, Kevin Spacey, Kate Bosworth, Aar...</td>\n",
       "      <td>United States</td>\n",
       "      <td>January 1, 2020</td>\n",
       "      <td>2008</td>\n",
       "      <td>PG-13</td>\n",
       "      <td>123 min</td>\n",
       "      <td>Dramas</td>\n",
       "      <td>A brilliant group of students become card-coun...</td>\n",
       "      <td>2020</td>\n",
       "      <td>1</td>\n",
       "      <td>1</td>\n",
       "      <td>2</td>\n",
       "    </tr>\n",
       "  </tbody>\n",
       "</table>\n",
       "</div>"
      ],
      "text/plain": [
       "  show_id     type  title           director  \\\n",
       "0      s1  TV Show     3%                NaN   \n",
       "1      s2    Movie   7:19  Jorge Michel Grau   \n",
       "2      s3    Movie  23:59       Gilbert Chan   \n",
       "3      s4    Movie      9        Shane Acker   \n",
       "4      s5    Movie     21     Robert Luketic   \n",
       "\n",
       "                                                cast        country  \\\n",
       "0  João Miguel, Bianca Comparato, Michel Gomes, R...         Brazil   \n",
       "1  Demián Bichir, Héctor Bonilla, Oscar Serrano, ...         Mexico   \n",
       "2  Tedd Chan, Stella Chung, Henley Hii, Lawrence ...      Singapore   \n",
       "3  Elijah Wood, John C. Reilly, Jennifer Connelly...  United States   \n",
       "4  Jim Sturgess, Kevin Spacey, Kate Bosworth, Aar...  United States   \n",
       "\n",
       "          date_added  release_year rating   duration  \\\n",
       "0    August 14, 2020          2020  TV-MA  4 Seasons   \n",
       "1  December 23, 2016          2016  TV-MA     93 min   \n",
       "2  December 20, 2018          2011      R     78 min   \n",
       "3  November 16, 2017          2009  PG-13     80 min   \n",
       "4    January 1, 2020          2008  PG-13    123 min   \n",
       "\n",
       "                                           listed_in  \\\n",
       "0  International TV Shows, TV Dramas, TV Sci-Fi &...   \n",
       "1                       Dramas, International Movies   \n",
       "2                Horror Movies, International Movies   \n",
       "3  Action & Adventure, Independent Movies, Sci-Fi...   \n",
       "4                                             Dramas   \n",
       "\n",
       "                                         description  Year  Month Day  WeekDay  \n",
       "0  In a future where the elite inhabit an island ...  2020      8  14        4  \n",
       "1  After a devastating earthquake hits Mexico Cit...  2016     12  23        4  \n",
       "2  When an army recruit is found dead, his fellow...  2018     12  20        3  \n",
       "3  In a postapocalyptic world, rag-doll robots hi...  2017     11  16        3  \n",
       "4  A brilliant group of students become card-coun...  2020      1   1        2  "
      ]
     },
     "execution_count": 307,
     "metadata": {},
     "output_type": "execute_result"
    }
   ],
   "source": [
    "df.head()"
   ]
  },
  {
   "cell_type": "code",
   "execution_count": null,
   "id": "9753d308",
   "metadata": {},
   "outputs": [],
   "source": []
  }
 ],
 "metadata": {
  "kernelspec": {
   "display_name": "Python 3",
   "language": "python",
   "name": "python3"
  },
  "language_info": {
   "codemirror_mode": {
    "name": "ipython",
    "version": 3
   },
   "file_extension": ".py",
   "mimetype": "text/x-python",
   "name": "python",
   "nbconvert_exporter": "python",
   "pygments_lexer": "ipython3",
   "version": "3.7.4"
  }
 },
 "nbformat": 4,
 "nbformat_minor": 5
}
